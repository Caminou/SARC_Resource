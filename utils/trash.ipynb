{
 "cells": [
  {
   "cell_type": "code",
   "execution_count": null,
   "metadata": {},
   "outputs": [],
   "source": [
    "demographics = pd.merge(patients, redcap, on =[\"REDCAP ID\"])\n",
    "data = pd.merge(data_metadata, sample_metadata, on=[\"Patient ID\",\"Sample ID\",\"Specimen ID\"], how=\"outer\")\n",
    "all_data=pd.merge(demographics, data, on=[\"Patient ID\"], how=\"outer\")"
   ]
  }
 ],
 "metadata": {
  "language_info": {
   "name": "python"
  }
 },
 "nbformat": 4,
 "nbformat_minor": 2
}
